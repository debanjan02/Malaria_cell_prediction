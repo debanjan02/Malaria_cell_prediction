{
  "cells": [
    {
      "metadata": {
        "_uuid": "8f2839f25d086af736a60e9eeb907d3b93b6e0e5",
        "_cell_guid": "b1076dfc-b9ad-4769-8c92-a6c4dae69d19",
        "trusted": true
      },
      "cell_type": "code",
      "source": "import numpy as np # linear algebra\nimport pandas as pd # data processing, CSV file I/O (e.g. pd.read_csv)\n\nimport os\nprint(os.listdir(\"../input/cell_images/cell_images\"))\nfrom glob import glob\nfrom PIL import Image\n%matplotlib inline\nimport matplotlib.pyplot as plt\nimport cv2\nimport fnmatch\nimport keras\nfrom time import sleep\nfrom keras.utils import to_categorical\nfrom keras.models import Sequential\nfrom keras.layers import Dense,Conv2D,MaxPool2D,Dropout,Flatten,BatchNormalization,MaxPooling2D,Activation\nfrom keras.optimizers import RMSprop,Adam\nfrom tensorflow.keras.callbacks import EarlyStopping\nfrom keras import backend as k",
      "execution_count": null,
      "outputs": []
    },
    {
      "metadata": {
        "_cell_guid": "79c7e3d0-c299-4dcb-8224-4455121ee9b0",
        "_uuid": "d629ff2d2480ee46fbb7e2d37f6b5fab8052498a",
        "trusted": true,
        "scrolled": true
      },
      "cell_type": "code",
      "source": "imagePatches_0 = glob('../input/cell_images/cell_images/Uninfected/*.png', recursive=True)\nimagePatches_1 = glob('../input/cell_images/cell_images/Parasitized/*.png', recursive=True)\nprint(len(imagePatches_0))\nprint(len(imagePatches_1))",
      "execution_count": null,
      "outputs": []
    },
    {
      "metadata": {
        "trusted": true,
        "_uuid": "d0434f6938c5ca2c82947a6f15613afe15fb243d"
      },
      "cell_type": "code",
      "source": "x=[]\ny=[]\nfor img in imagePatches_0:\n    full_size_image = cv2.imread(img)\n    im = cv2.resize(full_size_image, (224, 224), interpolation=cv2.INTER_CUBIC)\n    x.append(im)\n    y.append(0)\nfor img in imagePatches_1:\n    full_size_image = cv2.imread(img)\n    im = cv2.resize(full_size_image, (224, 224), interpolation=cv2.INTER_CUBIC)\n    x.append(im)\n    y.append(1)\nx = np.array(x)\ny = np.array(y)",
      "execution_count": null,
      "outputs": []
    },
    {
      "metadata": {
        "trusted": true,
        "_uuid": "9c97c9a62f0e4d0e718a93c621e8631a123afa08"
      },
      "cell_type": "code",
      "source": "from sklearn.model_selection import train_test_split\nx_train, x_valid, y_train, y_valid = train_test_split(x, y, test_size = 0.2, random_state = 101)\ny_train = to_categorical(y_train, num_classes = 2)\ny_valid = to_categorical(y_valid, num_classes = 2)\ndel x, y",
      "execution_count": null,
      "outputs": []
    },
    {
      "metadata": {
        "trusted": true,
        "_uuid": "c26b6511d7c631e0825f3b40920fea915bb50ccf"
      },
      "cell_type": "code",
      "source": "import keras\nfrom keras.models import Sequential,Input,Model\nfrom keras.layers import Conv2D, MaxPooling2D, MaxPooling1D, GlobalAveragePooling2D, Dense, Dropout, Flatten, Input, LSTM, TimeDistributed\nfrom keras.layers.normalization import BatchNormalization\nfrom keras.layers.advanced_activations import LeakyReLU \nmodel = Sequential()\nmodel.add(Conv2D(32,(7,7),activation='relu'))\nmodel.add(MaxPooling2D((2,2)))\nmodel.add(BatchNormalization())\nmodel.add(Dropout(0.15))\nmodel.add(Conv2D(64,(5,5),activation='relu'))\nmodel.add(MaxPooling2D((2,2)))\nmodel.add(BatchNormalization())\nmodel.add(Dropout(0.15))\nmodel.add(Conv2D(128,(3,3),activation='relu'))\nmodel.add(MaxPooling2D((2,2)))\nmodel.add(BatchNormalization())\nmodel.add(Dropout(0.15))\nmodel.add(Conv2D(128,(3,3),activation='relu'))\nmodel.add(MaxPooling2D((2,2)))\nmodel.add(BatchNormalization())\nmodel.add(Dropout(0.15))\nmodel.add(GlobalAveragePooling2D())\nmodel.add(Dense(1000, activation='relu'))\nmodel.add(Dense(2,activation='softmax'))\nmodel.compile(optimizer='adam', loss = 'categorical_crossentropy', metrics=['accuracy'])\n#model.summary()",
      "execution_count": null,
      "outputs": []
    },
    {
      "metadata": {
        "trusted": true,
        "_uuid": "6193f14b4bba4a5053ac8427e65deeb90285febe",
        "scrolled": false
      },
      "cell_type": "code",
      "source": "from keras.callbacks import ModelCheckpoint\nmcp = ModelCheckpoint(filepath='model_check_path.hdf5',monitor=\"val_acc\", save_best_only=True, save_weights_only=False)\nhist = model.fit(x_train,y_train,batch_size = 32, epochs = 50, verbose=1,  validation_split=0.2, callbacks=[mcp])",
      "execution_count": null,
      "outputs": []
    },
    {
      "metadata": {
        "trusted": true,
        "_uuid": "524f315fb6b0fbb33c3f364b359309d913a2c8aa"
      },
      "cell_type": "code",
      "source": "fig = plt.figure()\nax = fig.add_subplot(111)\nax.set_facecolor('w')\nax.grid(b=False)\nax.plot(hist.history['acc'], color='red')\nax.plot(hist.history['val_acc'], color ='green')\nplt.title('model accuracy')\nplt.ylabel('accuracy')\nplt.xlabel('epoch')\nplt.legend(['train', 'test'], loc='lower right')\nplt.show()",
      "execution_count": null,
      "outputs": []
    },
    {
      "metadata": {
        "trusted": true,
        "_uuid": "c1dc8f9eb89fcfe2defaa7422f14f9a7418ce7e7"
      },
      "cell_type": "code",
      "source": "fig = plt.figure()\nax = fig.add_subplot(111)\nax.set_facecolor('w')\nax.grid(b=False)\nax.plot(hist.history['loss'], color='red')\nax.plot(hist.history['val_loss'], color ='green')\nplt.title('model loss')\nplt.ylabel('loss')\nplt.xlabel('epoch')\nplt.legend(['train', 'test'], loc='upper right')\nplt.show()",
      "execution_count": null,
      "outputs": []
    },
    {
      "metadata": {
        "trusted": true,
        "_uuid": "5d8eec3dd55f0991e0423fe23cdde66804127c3a"
      },
      "cell_type": "code",
      "source": "model.load_weights('model_check_path.hdf5')",
      "execution_count": null,
      "outputs": []
    },
    {
      "metadata": {
        "trusted": true,
        "scrolled": true,
        "_uuid": "19b45101a3652c74f4e8fcb674dbafbf293e1e73"
      },
      "cell_type": "code",
      "source": "from sklearn.metrics import classification_report\npred = model.predict(x_valid)\nprint(classification_report(np.argmax(y_valid, axis = 1),np.argmax(pred, axis = 1)))",
      "execution_count": null,
      "outputs": []
    },
    {
      "metadata": {
        "trusted": true,
        "_uuid": "f30b41e21d40bc76c1c314b027dfff7a3957c8b7"
      },
      "cell_type": "code",
      "source": "def plot_confusion_matrix(cm,\n                          target_names,\n                          title='Confusion matrix',\n                          cmap=None,\n                          normalize=True):\n    import matplotlib.pyplot as plt\n    import numpy as np\n    import itertools\n\n    accuracy = np.trace(cm) / float(np.sum(cm))\n    misclass = 1 - accuracy\n\n    if cmap is None:\n        cmap = plt.get_cmap('Blues')\n\n    plt.figure(figsize=(8, 6))\n    plt.grid(b=False)\n    plt.imshow(cm, interpolation='nearest', cmap=cmap)\n    plt.title(title)\n    plt.colorbar()\n\n    if target_names is not None:\n        tick_marks = np.arange(len(target_names))\n        plt.xticks(tick_marks, target_names, rotation=45)\n        plt.yticks(tick_marks, target_names)\n    if normalize:\n        cm = cm.astype('float') / cm.sum(axis=1)[:, np.newaxis]\n\n\n    thresh = cm.max() / 1.5 if normalize else cm.max() / 2\n    for i, j in itertools.product(range(cm.shape[0]), range(cm.shape[1])):\n        if normalize:\n            plt.text(j, i, \"{:0.4f}\".format(cm[i, j]),\n                     horizontalalignment=\"center\",\n                     color=\"white\" if cm[i, j] > thresh else \"black\")\n        else:\n            plt.text(j, i, \"{:,}\".format(cm[i, j]),\n                     horizontalalignment=\"center\",\n                     color=\"white\" if cm[i, j] > thresh else \"black\")\n\n\n    plt.tight_layout()\n    plt.ylabel('True label')\n    plt.xlabel('Predicted label\\naccuracy={:0.4f}; misclass={:0.4f}'.format(accuracy, misclass))\n    plt.show()",
      "execution_count": null,
      "outputs": []
    },
    {
      "metadata": {
        "trusted": true,
        "_uuid": "b57288578c171e24a111a521ebe5c56bb90cccf3"
      },
      "cell_type": "code",
      "source": "\nfrom sklearn.metrics import confusion_matrix\ncm = confusion_matrix(np.argmax(y_valid, axis = 1),np.argmax(pred, axis = 1))\nplot_confusion_matrix(cm = cm,\n                      normalize    = False,\n                      cmap ='Reds',\n                      target_names = ['Uninfected', 'Parasitized'],\n                      title        = \"Confusion Matrix\")",
      "execution_count": null,
      "outputs": []
    }
  ],
  "metadata": {
    "kernelspec": {
      "display_name": "Python 3",
      "language": "python",
      "name": "python3"
    },
    "language_info": {
      "name": "python",
      "version": "3.6.6",
      "mimetype": "text/x-python",
      "codemirror_mode": {
        "name": "ipython",
        "version": 3
      },
      "pygments_lexer": "ipython3",
      "nbconvert_exporter": "python",
      "file_extension": ".py"
    }
  },
  "nbformat": 4,
  "nbformat_minor": 1
}